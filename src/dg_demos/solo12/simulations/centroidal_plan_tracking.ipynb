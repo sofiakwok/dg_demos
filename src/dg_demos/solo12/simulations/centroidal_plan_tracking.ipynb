{
 "cells": [
  {
   "cell_type": "code",
   "execution_count": 1,
   "metadata": {
    "scrolled": true
   },
   "outputs": [
    {
     "name": "stdout",
     "output_type": "stream",
     "text": [
      "Loaded plain.\n",
      "Sig:sotVectorConstant(bullet_quadruped_base_pos)::output(vector)::sout (Type Cst)\n",
      "Kd !!!!!\n",
      "fff is plugged ....\n",
      "Kd !!!!!\n",
      "fff is plugged ....\n",
      "Kd !!!!!\n",
      "fff is plugged ....\n",
      "Kd !!!!!\n",
      "fff is plugged ....\n"
     ]
    }
   ],
   "source": [
    "import pybullet as p\n",
    "import numpy as np\n",
    "from dg_tools.utils import *\n",
    "from robot_properties_solo.config import Solo12Config\n",
    "from dg_blmc_robots.solo.solo12_bullet import get_solo12_robot\n",
    "\n",
    "from dg_blmc_robots.vicon_client_bullet import ViconClientEntityBullet\n",
    "\n",
    "from dg_demos.solo12.controllers.centroidal_plan_controller import get_controller\n",
    "from robot_properties_solo.config import Solo12Config\n",
    "\n",
    "import matplotlib.pylab as plt\n",
    "\n",
    "ctrl = get_controller()\n",
    "robot = get_solo12_robot(hide_gui=False)\n",
    "\n",
    "ctrl.init(robot, ViconClientEntityBullet)\n",
    "ctrl.plug()\n",
    "robot.q0[0] = 0.\n",
    "robot.reset_state(robot.q0, robot.dq0)\n",
    "\n",
    "wtrl = ctrl.ctrl\n",
    "\n",
    "# # Use the current position to zero the robot position.\n",
    "wtrl.quad_com_ctrl.set_bias()\n",
    "wtrl.kf_eff.value = 1.\n",
    "wtrl.record_data()\n",
    "\n",
    "# wtrl.slider_tune_com_pd()\n",
    "\n",
    "# Load the terrain component to jump onto.\n",
    "# urdf_path = rospkg.RosPack().get_path('dg_demos') + '/python/dg_demos/solo12/simulations/urdf'\n",
    "# p.loadURDF(urdf_path + '/terrain_component.urdf', basePosition=(0.66, 0., 0.))"
   ]
  },
  {
   "cell_type": "code",
   "execution_count": 3,
   "metadata": {},
   "outputs": [],
   "source": [
    "# The following parameters are used in the python simulation without dg.\n",
    "#\n",
    "# centr_controller = SoloCentroidalController(robot.pin_robot, total_mass,\n",
    "#         mu=0.8, kc=200., dc=20., kb=30., db=50.,\n",
    "#         eff_ids=robot.pinocchio_endeff_ids)\n",
    "\n",
    "# centr_controller.qp_penalty_lin = 3 * [1e6,]\n",
    "# centr_controller.qp_penalty_ang = 3 * [1e6,]\n",
    "\n",
    "wtrl.kp_com_val.value = 100.\n",
    "wtrl.kd_com_val.value = 10.\n",
    "\n",
    "wtrl.kp_ang_com_val.value = 25.\n",
    "wtrl.kd_ang_com_val.value = 22.5\n",
    "\n",
    "wtrl.kp_eff_val.value = 50.\n",
    "wtrl.kp_eff_x_val.value = 50.\n",
    "wtrl.kp_eff_y_val.value = 50.\n",
    "wtrl.kd_eff_val.value = 1.0\n",
    "wtrl.kd_eff_plane_val.value = 1.0\n",
    "# D.value = 0.0\n",
    "\n",
    "wtrl.hess.value = np.diag(12*[2.,] + 3*[5e4] + 3*[1e6])\n",
    "# wtrl.hess.value = np.diag(12*[10,] + 3*[200] + 3*[200])\n",
    "\n",
    "ctrl.kp_joint.value = 0.0\n",
    "ctrl.kd_joint.value = 0.1\n",
    "\n",
    "robot.reset_state(robot.q0, robot.dq0)\n",
    "ctrl.switch_default()\n",
    "robot.run(1000)\n",
    "ctrl.switch_plan()\n",
    "# robot.start_tracer()\n",
    "robot.run(5000, delay=0.01)\n",
    "# robot.stop_tracer()"
   ]
  }
 ],
 "metadata": {
  "kernelspec": {
   "display_name": "venv_learn_track",
   "language": "python",
   "name": "venv_learn_track"
  },
  "language_info": {
   "codemirror_mode": {
    "name": "ipython",
    "version": 2
   },
   "file_extension": ".py",
   "mimetype": "text/x-python",
   "name": "python",
   "nbconvert_exporter": "python",
   "pygments_lexer": "ipython2",
   "version": "2.7.17"
  }
 },
 "nbformat": 4,
 "nbformat_minor": 4
}
