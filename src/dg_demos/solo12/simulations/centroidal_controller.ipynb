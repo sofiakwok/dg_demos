{
 "cells": [
  {
   "cell_type": "code",
   "execution_count": 1,
   "metadata": {
    "scrolled": false
   },
   "outputs": [
    {
     "name": "stdout",
     "output_type": "stream",
     "text": [
      "Loaded plain.\n",
      "Sig:sotVectorConstant(bullet_quadruped_base_pos)::output(vector)::sout (Type Cst)\n",
      "Kd !!!!!\n",
      "fff is plugged ....\n",
      "Kd !!!!!\n",
      "fff is plugged ....\n",
      "Kd !!!!!\n",
      "fff is plugged ....\n",
      "Kd !!!!!\n",
      "fff is plugged ....\n"
     ]
    }
   ],
   "source": [
    "import pybullet as p\n",
    "import numpy as np\n",
    "from dg_tools.utils import *\n",
    "from robot_properties_solo.config import Solo12Config\n",
    "from dg_blmc_robots.solo.solo12_bullet import get_solo12_robot\n",
    "\n",
    "from dg_blmc_robots.vicon_client_bullet import ViconClientEntityBullet\n",
    "\n",
    "from dg_demos.solo12.controllers.centroidal_controller import get_controller\n",
    "\n",
    "ctrl = get_controller()\n",
    "robot = get_solo12_robot(hide_gui=False)\n",
    "\n",
    "ctrl.init(robot, ViconClientEntityBullet)\n",
    "ctrl.plug()\n",
    "robot.reset_state(robot.q0, robot.dq0)\n",
    "\n",
    "# # Use the current position to zero the robot position.\n",
    "ctrl.quad_com_ctrl.set_bias()\n",
    "ctrl.kf_eff.value = 1.\n",
    "\n",
    "# ctrl.kp_ang_com_val.value = 100.\n",
    "# ctrl.kd_ang_com_val.value = 5.\n",
    "\n",
    "# ctrl.kp_eff_val.value = 0. # = constDouble(50.)\n",
    "# ctrl.kd_eff_val.value = 3. #constDouble(3.)"
   ]
  },
  {
   "cell_type": "code",
   "execution_count": 16,
   "metadata": {},
   "outputs": [],
   "source": [
    "import dynamic_graph.sot.core.operator\n",
    "op = dynamic_graph.sot.core.operator.Multiply_double_vector('')"
   ]
  },
  {
   "cell_type": "code",
   "execution_count": 21,
   "metadata": {},
   "outputs": [
    {
     "data": {
      "text/plain": [
       "<dynamic_graph.signal_base.SignalBase at 0x7facb4db1d90>"
      ]
     },
     "execution_count": 21,
     "metadata": {},
     "output_type": "execute_result"
    }
   ],
   "source": [
    "op.sin = op.sin2\n",
    "\n",
    "op.sin"
   ]
  },
  {
   "cell_type": "code",
   "execution_count": 5,
   "metadata": {},
   "outputs": [],
   "source": [
    "robot.run(1)"
   ]
  },
  {
   "cell_type": "code",
   "execution_count": 6,
   "metadata": {},
   "outputs": [
    {
     "name": "stdout",
     "output_type": "stream",
     "text": [
      "(0.195, 0.147, 0.015)\n",
      "(0.1946, 0.14695, 0.027053853008907086)\n",
      "(-0.00040000000000001146, -4.999999999999449e-05, 0.012053853008907087)\n"
     ]
    },
    {
     "data": {
      "text/plain": [
       "(0.0, 0.0, 0.25)"
      ]
     },
     "execution_count": 6,
     "metadata": {},
     "output_type": "execute_result"
    }
   ],
   "source": [
    "imp = ctrl.quad_imp_ctrl.leg_imp_ctrl[0]\n",
    "print(imp.rct_args['des_pos'].value)\n",
    "print(imp.xyzpos_foot.value)\n",
    "print(imp.pos_error.value)\n",
    "\n",
    "# ctrl.quad_com_ctrl.com_imp_ctrl.set_pos_bias.value\n",
    "ctrl.quad_com_ctrl.biased_base_pos_xyz.value"
   ]
  },
  {
   "cell_type": "code",
   "execution_count": 2,
   "metadata": {},
   "outputs": [],
   "source": [
    "robot.run(10000)"
   ]
  },
  {
   "cell_type": "code",
   "execution_count": 5,
   "metadata": {},
   "outputs": [],
   "source": [
    "ctrl.slider_tune_com_pd()"
   ]
  },
  {
   "cell_type": "code",
   "execution_count": 6,
   "metadata": {},
   "outputs": [
    {
     "name": "stdout",
     "output_type": "stream",
     "text": [
      "Help on method add_ros_and_trace in module dg_blmc_robots.solo.solo_base_bullet:\n",
      "\n",
      "add_ros_and_trace(self, client_name, signal_name, topic_name=None, topic_type=None) method of dg_blmc_robots.solo.solo12_bullet.Solo12BulletRobot instance\n",
      "\n"
     ]
    }
   ],
   "source": [
    "help(ctrl.robot.add_ros_and_trace)"
   ]
  },
  {
   "cell_type": "code",
   "execution_count": null,
   "metadata": {},
   "outputs": [],
   "source": []
  },
  {
   "cell_type": "code",
   "execution_count": null,
   "metadata": {},
   "outputs": [],
   "source": []
  },
  {
   "cell_type": "code",
   "execution_count": null,
   "metadata": {},
   "outputs": [],
   "source": []
  },
  {
   "cell_type": "code",
   "execution_count": null,
   "metadata": {},
   "outputs": [],
   "source": []
  }
 ],
 "metadata": {
  "kernelspec": {
   "display_name": "venv_learn_track",
   "language": "python",
   "name": "venv_learn_track"
  },
  "language_info": {
   "codemirror_mode": {
    "name": "ipython",
    "version": 2
   },
   "file_extension": ".py",
   "mimetype": "text/x-python",
   "name": "python",
   "nbconvert_exporter": "python",
   "pygments_lexer": "ipython2",
   "version": "2.7.17"
  }
 },
 "nbformat": 4,
 "nbformat_minor": 2
}
