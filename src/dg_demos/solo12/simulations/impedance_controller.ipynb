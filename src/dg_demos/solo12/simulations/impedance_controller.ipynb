{
 "cells": [
  {
   "cell_type": "code",
   "execution_count": 1,
   "metadata": {},
   "outputs": [],
   "source": [
    "import numpy as np\n",
    "from robot_properties_solo.config import Solo12Config\n",
    "from dg_blmc_robots.solo.solo12_bullet import get_solo12_robot\n",
    "\n",
    "from dg_demos.solo12.controllers.impedance_controller import get_controller\n"
   ]
  },
  {
   "cell_type": "code",
   "execution_count": 2,
   "metadata": {},
   "outputs": [
    {
     "name": "stdout",
     "output_type": "stream",
     "text": [
      "Loaded plain.\n",
      "Kd !!!!!\n",
      "fff is plugged ....\n",
      "Kd !!!!!\n",
      "fff is plugged ....\n",
      "Kd !!!!!\n",
      "fff is plugged ....\n",
      "Kd !!!!!\n",
      "fff is plugged ....\n"
     ]
    }
   ],
   "source": [
    "ctrl = get_controller()\n",
    "\n",
    "robot = get_solo12_robot()\n",
    "ctrl.plug(robot)\n",
    "\n",
    "# robot.reset_state(robot.q0, robot.dq0)\n",
    "# robot.run(10000)\n",
    "\n",
    "\n",
    "ctrl"
   ]
  },
  {
   "cell_type": "code",
   "execution_count": 3,
   "metadata": {},
   "outputs": [],
   "source": [
    "robot.reset_state(robot.q0, robot.dq0)\n",
    "robot.run(10)"
   ]
  },
  {
   "cell_type": "code",
   "execution_count": null,
   "metadata": {},
   "outputs": [],
   "source": []
  }
 ],
 "metadata": {
  "kernelspec": {
   "display_name": "Python 2",
   "language": "python",
   "name": "python2"
  },
  "language_info": {
   "codemirror_mode": {
    "name": "ipython",
    "version": 2
   },
   "file_extension": ".py",
   "mimetype": "text/x-python",
   "name": "python",
   "nbconvert_exporter": "python",
   "pygments_lexer": "ipython2",
   "version": "2.7.12"
  }
 },
 "nbformat": 4,
 "nbformat_minor": 2
}
