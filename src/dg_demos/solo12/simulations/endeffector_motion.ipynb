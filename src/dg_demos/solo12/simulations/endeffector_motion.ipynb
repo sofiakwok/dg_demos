{
 "cells": [
  {
   "cell_type": "code",
   "execution_count": 1,
   "metadata": {},
   "outputs": [],
   "source": [
    "# Simulation demo for solo12 centroidal controller.\n",
    "# Author: Julian Viereck\n",
    "# Date : 28 January 2020\n",
    "\n",
    "import numpy as np\n",
    "import pybullet as p\n",
    "from robot_properties_solo.config import Solo12Config\n",
    "from dg_blmc_robots.solo.solo12_bullet import get_solo12_robot\n",
    "\n",
    "from dg_blmc_robots.vicon_client_bullet import ViconClientEntityBullet\n",
    "\n",
    "from dg_demos.solo12.controllers.endeffector_motion import get_controller"
   ]
  },
  {
   "cell_type": "code",
   "execution_count": 2,
   "metadata": {},
   "outputs": [
    {
     "name": "stdout",
     "output_type": "stream",
     "text": [
      "Loaded plain.\n",
      "Sig:sotVectorConstant(bullet_quadruped_base_pos)::output(vector)::sout (Type Cst)\n",
      "Kd !!!!!\n",
      "fff is plugged ....\n",
      "Kd !!!!!\n",
      "fff is plugged ....\n",
      "Kd !!!!!\n",
      "fff is plugged ....\n",
      "Kd !!!!!\n",
      "fff is plugged ....\n"
     ]
    }
   ],
   "source": [
    "# ctrl = get_controller()\n",
    "# robot = get_solo12_robot()\n",
    "\n",
    "# robot.q0[0] = 0.\n",
    "# robot.reset_state(robot.q0, robot.dq0)\n",
    "\n",
    "# ctrl.init(robot, ViconClientEntityBullet)\n",
    "\n",
    "# # ctrl.centroidal_.kp_ang_com_val.value = 100.\n",
    "# # ctrl.centroidal_.kd_ang_com_val.value = 30.\n",
    "\n",
    "# ctrl.plug()\n",
    "\n",
    "ctrl = get_controller()\n",
    "robot = get_solo12_robot(hide_gui=False)\n",
    "\n",
    "robot.q0[0] = 0.\n",
    "robot.reset_state(robot.q0, robot.dq0)\n",
    "\n",
    "ctrl.init(robot, ViconClientEntityBullet)\n",
    "ctrl.plug()\n",
    "\n",
    "\n",
    "# # Use the current position to zero the robot position.\n",
    "ctrl.centroidal_.quad_com_ctrl.set_bias()\n",
    "ctrl.centroidal_.kf_eff.value = 1.\n",
    "\n",
    "# ctrl.kp_ang_com_val.value = 100.\n",
    "# ctrl.kd_ang_com_val.value = 5.\n",
    "\n",
    "# ctrl.kp_eff_val.value = 0. # = constDouble(50.)\n",
    "# ctrl.kd_eff_val.value = 3. #constDouble(3.)"
   ]
  },
  {
   "cell_type": "code",
   "execution_count": 3,
   "metadata": {},
   "outputs": [],
   "source": [
    "# Use the current position to zero the robot position.\n",
    "ctrl.centroidal_.kf_eff.value = 1.\n",
    "robot.run(1000)"
   ]
  },
  {
   "cell_type": "code",
   "execution_count": 4,
   "metadata": {},
   "outputs": [],
   "source": [
    "ctrl.start()\n",
    "robot.run(1000)"
   ]
  },
  {
   "cell_type": "code",
   "execution_count": null,
   "metadata": {},
   "outputs": [],
   "source": []
  },
  {
   "cell_type": "code",
   "execution_count": 5,
   "metadata": {},
   "outputs": [
    {
     "name": "stdout",
     "output_type": "stream",
     "text": [
      "VectorSignal: value=(0.045, 0.045, 0.015643446504003712)\n"
     ]
    },
    {
     "ename": "AttributeError",
     "evalue": "'Solo12EffectorMotion' object has no attribute 'x_foot_des_ground'",
     "output_type": "error",
     "traceback": [
      "\u001b[0;31m---------------------------------------------------------------------------\u001b[0m",
      "\u001b[0;31mAttributeError\u001b[0m                            Traceback (most recent call last)",
      "\u001b[0;32m<ipython-input-5-34d9693cb115>\u001b[0m in \u001b[0;36m<module>\u001b[0;34m()\u001b[0m\n\u001b[1;32m      1\u001b[0m \u001b[0;32mprint\u001b[0m\u001b[0;34m(\u001b[0m\u001b[0mrepr\u001b[0m\u001b[0;34m(\u001b[0m\u001b[0mctrl\u001b[0m\u001b[0;34m.\u001b[0m\u001b[0mx_foot_des_air\u001b[0m\u001b[0;34m)\u001b[0m\u001b[0;34m)\u001b[0m\u001b[0;34m\u001b[0m\u001b[0m\n\u001b[0;32m----> 2\u001b[0;31m \u001b[0;32mprint\u001b[0m\u001b[0;34m(\u001b[0m\u001b[0mrepr\u001b[0m\u001b[0;34m(\u001b[0m\u001b[0mctrl\u001b[0m\u001b[0;34m.\u001b[0m\u001b[0mx_foot_des_ground\u001b[0m\u001b[0;34m)\u001b[0m\u001b[0;34m)\u001b[0m\u001b[0;34m\u001b[0m\u001b[0m\n\u001b[0m\u001b[1;32m      3\u001b[0m \u001b[0;32mprint\u001b[0m\u001b[0;34m(\u001b[0m\u001b[0mctrl\u001b[0m\u001b[0;34m.\u001b[0m\u001b[0mswitch_xdes\u001b[0m\u001b[0;34m.\u001b[0m\u001b[0msout\u001b[0m\u001b[0;34m.\u001b[0m\u001b[0mvalue\u001b[0m\u001b[0;34m)\u001b[0m\u001b[0;34m\u001b[0m\u001b[0m\n",
      "\u001b[0;31mAttributeError\u001b[0m: 'Solo12EffectorMotion' object has no attribute 'x_foot_des_ground'"
     ]
    }
   ],
   "source": [
    "print(repr(ctrl.x_foot_des_air))\n",
    "print(repr(ctrl.x_foot_des_ground))\n",
    "print(ctrl.switch_xdes.sout.value)"
   ]
  },
  {
   "cell_type": "code",
   "execution_count": null,
   "metadata": {},
   "outputs": [],
   "source": [
    "imp = ctrl.centroidal_.quad_imp_ctrl.leg_imp_ctrl[1]\n",
    "imp.rct_args[\"des_pos\"].value"
   ]
  },
  {
   "cell_type": "code",
   "execution_count": null,
   "metadata": {},
   "outputs": [],
   "source": [
    "ctrl.x0_"
   ]
  },
  {
   "cell_type": "code",
   "execution_count": null,
   "metadata": {},
   "outputs": [],
   "source": [
    "# import pinocchio as se3\n",
    "# from dynamic_graph_manager.dg_reactive_planners import StepperHead, DcmVrpPlanner\n",
    "\n",
    "# # Debugging stepper-qp not finding a solution.\n",
    "# dcm_planner = DcmVrpPlanner('dcm_planner_jupyter')\n",
    "\n",
    "# #   current_step_location: 0\n",
    "# # 0\n",
    "# # 0\n",
    "# #   time_from_last_step_touchdown: 0.012\n",
    "# #   is_left_leg_in_contact: 1\n",
    "# #   v_des: 0\n",
    "# # 0\n",
    "# # 0\n",
    "# #   com: 0.000397982\n",
    "# # -0.00532435\n",
    "# #    0.198116\n",
    "# #   com_vel:  -0.0123611\n",
    "# # 1.97846e-05\n",
    "# # -0.00541407\n",
    "# #   world_M_base:   R =\n",
    "# #     0.9996 -0.0188235  0.0211201\n",
    "# #  0.0221802   0.984843  -0.172024\n",
    "# # -0.0175619   0.172424   0.984866\n",
    "# #   p = 0.000254929 -0.00427712    0.219185\n",
    "# dcm_planner.displaySignals()\n",
    "\n",
    "# dcm_planner.current_step_location_sin.value = [0., 0., 0.]\n",
    "# dcm_planner.time_from_last_step_touchdown_sin.value = 0.\n",
    "# dcm_planner.is_left_leg_in_contact_sin.value = 1\n",
    "# dcm_planner.desired_velocity_sin.value = [0.05, 0., 0.]\n",
    "# dcm_planner.com_vel_sin.value = [-0.0123611, 1.97846e-05, -0.00541407]\n",
    "# dcm_planner.com_sin.value = [\n",
    "#     0.000397982, -0.00532435,  0.198116\n",
    "# ]\n",
    "\n",
    "# R = np.matrix([\n",
    "#     0.9996, -0.0188235,  0.0211201,\n",
    "#  0.0221802,   0.984843,  -0.172024,\n",
    "# -0.0175619,   0.172424,   0.984866\n",
    "# ]).reshape(3, 3)\n",
    "\n",
    "# q = np.vstack([\n",
    "#     np.matrix([0.000254929, -0.00427712, 0.219185]).T,\n",
    "#     se3.Quaternion(R).coeffs()    \n",
    "# ])\n",
    "\n",
    "# dcm_planner.world_M_base_sin.value = np.array(q).reshape(-1)\n",
    "\n",
    "# self = ctrl\n",
    "# self.w[2] = 100000\n",
    "# dcm_planner.initializeParamVector([\n",
    "#     self.l_min, self.l_max,\n",
    "#     self.w_min, self.w_max,\n",
    "#     #self.t_min, self.t_max,\n",
    "#     0.1, 0.7,\n",
    "#     self.l_p, self.ht,\n",
    "#     # u_x, u_y, tau, b_x, b_y, psi_0, psi_1, psi_2, psi_3\n",
    "# ] + self.w)\n",
    "\n",
    "# dcm_planner.next_step_location_sout.recompute(7)\n",
    "# print(dcm_planner.next_step_location_sout.value)\n",
    "# print(dcm_planner.duration_before_step_landing_sout.value)"
   ]
  },
  {
   "cell_type": "code",
   "execution_count": null,
   "metadata": {},
   "outputs": [],
   "source": []
  }
 ],
 "metadata": {
  "kernelspec": {
   "display_name": "Python 2",
   "language": "python",
   "name": "python2"
  },
  "language_info": {
   "codemirror_mode": {
    "name": "ipython",
    "version": 2
   },
   "file_extension": ".py",
   "mimetype": "text/x-python",
   "name": "python",
   "nbconvert_exporter": "python",
   "pygments_lexer": "ipython2",
   "version": "2.7.12"
  }
 },
 "nbformat": 4,
 "nbformat_minor": 2
}
