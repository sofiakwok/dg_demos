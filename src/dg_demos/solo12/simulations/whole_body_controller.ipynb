{
 "cells": [
  {
   "cell_type": "code",
   "execution_count": 1,
   "metadata": {},
   "outputs": [],
   "source": [
    "\"\"\"This file is a demo for using the DG whole body controller.\n",
    "\n",
    "License BSD-3-Clause\n",
    "Copyright (c) 2021, New York University and Max Planck Gesellschaft.\n",
    "\n",
    "Author: Julian Viereck\n",
    "Date:   Feb 16, 2021\n",
    "\"\"\"\n",
    "\n",
    "import numpy as np\n",
    "np.set_printoptions(suppress=True, precision=3)\n",
    "\n",
    "import pinocchio as pin\n",
    "\n",
    "from robot_properties_solo.config import Solo12Config\n",
    "from dg_blmc_robots.solo.solo12_bullet import get_solo12_robot\n",
    "\n",
    "from mim_control.dynamic_graph.wbc_graph import WholeBodyController"
   ]
  },
  {
   "cell_type": "code",
   "execution_count": 2,
   "metadata": {},
   "outputs": [],
   "source": [
    "###\n",
    "# Create the simulated robot\n",
    "robot = get_solo12_robot()"
   ]
  },
  {
   "cell_type": "code",
   "execution_count": 3,
   "metadata": {},
   "outputs": [],
   "source": [
    "pin_robot = Solo12Config.buildRobotWrapper()\n",
    "\n",
    "qp_penalty_weights = np.array([5e5, 5e5, 5e5, 1e6, 1e6, 1e6])\n",
    "\n",
    "###\n",
    "# Create the whole body controller.\n",
    "wbc = WholeBodyController(\n",
    "    \"test_wbc\",\n",
    "    pin_robot,\n",
    "    Solo12Config.end_effector_names,\n",
    "    0.2,\n",
    "    qp_penalty_weights,\n",
    ")"
   ]
  },
  {
   "cell_type": "code",
   "execution_count": 6,
   "metadata": {},
   "outputs": [],
   "source": [
    "###\n",
    "# Specify gains for the controller.\n",
    "x_des = np.array(\n",
    "    [\n",
    "        -0.195,\n",
    "        -0.147,\n",
    "        0.015,\n",
    "        -0.195,\n",
    "        0.147,\n",
    "        0.015,\n",
    "        0.195,\n",
    "        -0.147,\n",
    "        0.015,\n",
    "        0.195,\n",
    "        0.147,\n",
    "        0.015,\n",
    "    ]\n",
    ").reshape(4, 3)\n",
    "\n",
    "# For the centroidal controllers.\n",
    "wbc.kc_sin.value = np.array([100.0, 100.0, 100.0])\n",
    "wbc.dc_sin.value = np.array([15.0, 15.0, 15.0])\n",
    "wbc.kb_sin.value = np.array([25.0, 25.0, 25.0])\n",
    "wbc.db_sin.value = np.array([10.0, 10.0, 10.0])\n",
    "\n",
    "wbc.des_com_pos_sin.value = np.array([0.0, 0.0, 0.20])\n",
    "wbc.des_com_vel_sin.value = np.zeros(3)\n",
    "wbc.des_ori_pos_sin.value = np.array([0.0, 0.0, 0.0, 1.])\n",
    "wbc.des_ori_vel_sin.value = np.zeros(3)\n",
    "\n",
    "wbc.cnt_array_sin.value = np.array([1.0, 1.0, 1.0, 1.0])\n",
    "\n",
    "# Impedance controllers.\n",
    "for i, imp in enumerate(wbc.imps):\n",
    "    imp.gain_proportional_sin.value = np.array(\n",
    "        [50.0, 50.0, 50.0, 0.0, 0.0, 0.0]\n",
    "    )\n",
    "    imp.gain_derivative_sin.value = np.array(\n",
    "        [0.7, 0.7, 0.7, 0.0, 0.0, 0.0]\n",
    "    )\n",
    "    imp.desired_end_frame_placement_sin.value = np.hstack(\n",
    "        [x_des[i], np.zeros(4)]\n",
    "    )\n",
    "    imp.desired_end_frame_velocity_sin.value = np.zeros(6)\n",
    "    imp.gain_feed_forward_force_sin.value = 1.0\n",
    "\n",
    "wbc.w_com_ff_sin.value = np.array([0.0, 0.0, 9.81 * 2.5, 0.0, 0.0, 0.0])"
   ]
  },
  {
   "cell_type": "code",
   "execution_count": 7,
   "metadata": {},
   "outputs": [],
   "source": [
    "# Change the position of the robot.\n",
    "q0 = Solo12Config.q0.copy()\n",
    "q0[0] = 0.0\n",
    "q0[3:7] = pin.Quaternion(pin.rpy.rpyToMatrix(0., 0., np.pi)).coeffs() # \n",
    "wbc.des_ori_pos_sin.value = q0[3:7]\n",
    "robot.reset_state(q0, Solo12Config.v0)\n",
    "\n",
    "# Plug the simulated robot to the controller.\n",
    "base_signals = robot.base_signals()\n",
    "wbc.plug(robot, base_signals[0], base_signals[1])\n",
    "\n",
    "# Simulate for N steps / ms.\n",
    "robot.run(4000, sleep=True)"
   ]
  },
  {
   "cell_type": "code",
   "execution_count": null,
   "metadata": {},
   "outputs": [],
   "source": []
  },
  {
   "cell_type": "code",
   "execution_count": null,
   "metadata": {},
   "outputs": [],
   "source": []
  }
 ],
 "metadata": {
  "kernelspec": {
   "display_name": "Python 3",
   "language": "python",
   "name": "python3"
  },
  "language_info": {
   "codemirror_mode": {
    "name": "ipython",
    "version": 3
   },
   "file_extension": ".py",
   "mimetype": "text/x-python",
   "name": "python",
   "nbconvert_exporter": "python",
   "pygments_lexer": "ipython3",
   "version": "3.6.9"
  }
 },
 "nbformat": 4,
 "nbformat_minor": 4
}
